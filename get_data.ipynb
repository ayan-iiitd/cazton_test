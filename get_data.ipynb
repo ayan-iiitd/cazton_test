{
  "nbformat": 4,
  "nbformat_minor": 0,
  "metadata": {
    "colab": {
      "provenance": []
    },
    "kernelspec": {
      "name": "python3",
      "display_name": "Python 3"
    },
    "language_info": {
      "name": "python"
    },
    "widgets": {
      "application/vnd.jupyter.widget-state+json": {
        "2358bd12554e4378b6033b5fd974c265": {
          "model_module": "@jupyter-widgets/controls",
          "model_name": "HBoxModel",
          "model_module_version": "1.5.0",
          "state": {
            "_dom_classes": [],
            "_model_module": "@jupyter-widgets/controls",
            "_model_module_version": "1.5.0",
            "_model_name": "HBoxModel",
            "_view_count": null,
            "_view_module": "@jupyter-widgets/controls",
            "_view_module_version": "1.5.0",
            "_view_name": "HBoxView",
            "box_style": "",
            "children": [
              "IPY_MODEL_6eb69bfcb7784cb0803b3dacf7787fa6",
              "IPY_MODEL_47931368e77b49e08e7d761f65c536b9",
              "IPY_MODEL_77b4705a7db5416cbffe8af0c9bc9d8d"
            ],
            "layout": "IPY_MODEL_0137073bd8f6492084aeded391b15d1e"
          }
        },
        "6eb69bfcb7784cb0803b3dacf7787fa6": {
          "model_module": "@jupyter-widgets/controls",
          "model_name": "HTMLModel",
          "model_module_version": "1.5.0",
          "state": {
            "_dom_classes": [],
            "_model_module": "@jupyter-widgets/controls",
            "_model_module_version": "1.5.0",
            "_model_name": "HTMLModel",
            "_view_count": null,
            "_view_module": "@jupyter-widgets/controls",
            "_view_module_version": "1.5.0",
            "_view_name": "HTMLView",
            "description": "",
            "description_tooltip": null,
            "layout": "IPY_MODEL_21ca56badae443c5bdffd3b735ccc565",
            "placeholder": "​",
            "style": "IPY_MODEL_513019cf10b5431d947c27774ff05a32",
            "value": "Downloading data files: 100%"
          }
        },
        "47931368e77b49e08e7d761f65c536b9": {
          "model_module": "@jupyter-widgets/controls",
          "model_name": "FloatProgressModel",
          "model_module_version": "1.5.0",
          "state": {
            "_dom_classes": [],
            "_model_module": "@jupyter-widgets/controls",
            "_model_module_version": "1.5.0",
            "_model_name": "FloatProgressModel",
            "_view_count": null,
            "_view_module": "@jupyter-widgets/controls",
            "_view_module_version": "1.5.0",
            "_view_name": "ProgressView",
            "bar_style": "success",
            "description": "",
            "description_tooltip": null,
            "layout": "IPY_MODEL_4a9d348b67d8467cbe02977dede03172",
            "max": 1,
            "min": 0,
            "orientation": "horizontal",
            "style": "IPY_MODEL_887dc32aba0e44aab1b04c6a5b2c1414",
            "value": 1
          }
        },
        "77b4705a7db5416cbffe8af0c9bc9d8d": {
          "model_module": "@jupyter-widgets/controls",
          "model_name": "HTMLModel",
          "model_module_version": "1.5.0",
          "state": {
            "_dom_classes": [],
            "_model_module": "@jupyter-widgets/controls",
            "_model_module_version": "1.5.0",
            "_model_name": "HTMLModel",
            "_view_count": null,
            "_view_module": "@jupyter-widgets/controls",
            "_view_module_version": "1.5.0",
            "_view_name": "HTMLView",
            "description": "",
            "description_tooltip": null,
            "layout": "IPY_MODEL_9f40beb94da5487a801c18942f954ca1",
            "placeholder": "​",
            "style": "IPY_MODEL_4aa9c99393aa485d84ea9ced2a160c28",
            "value": " 1/1 [00:00&lt;00:00, 51.31it/s]"
          }
        },
        "0137073bd8f6492084aeded391b15d1e": {
          "model_module": "@jupyter-widgets/base",
          "model_name": "LayoutModel",
          "model_module_version": "1.2.0",
          "state": {
            "_model_module": "@jupyter-widgets/base",
            "_model_module_version": "1.2.0",
            "_model_name": "LayoutModel",
            "_view_count": null,
            "_view_module": "@jupyter-widgets/base",
            "_view_module_version": "1.2.0",
            "_view_name": "LayoutView",
            "align_content": null,
            "align_items": null,
            "align_self": null,
            "border": null,
            "bottom": null,
            "display": null,
            "flex": null,
            "flex_flow": null,
            "grid_area": null,
            "grid_auto_columns": null,
            "grid_auto_flow": null,
            "grid_auto_rows": null,
            "grid_column": null,
            "grid_gap": null,
            "grid_row": null,
            "grid_template_areas": null,
            "grid_template_columns": null,
            "grid_template_rows": null,
            "height": null,
            "justify_content": null,
            "justify_items": null,
            "left": null,
            "margin": null,
            "max_height": null,
            "max_width": null,
            "min_height": null,
            "min_width": null,
            "object_fit": null,
            "object_position": null,
            "order": null,
            "overflow": null,
            "overflow_x": null,
            "overflow_y": null,
            "padding": null,
            "right": null,
            "top": null,
            "visibility": null,
            "width": null
          }
        },
        "21ca56badae443c5bdffd3b735ccc565": {
          "model_module": "@jupyter-widgets/base",
          "model_name": "LayoutModel",
          "model_module_version": "1.2.0",
          "state": {
            "_model_module": "@jupyter-widgets/base",
            "_model_module_version": "1.2.0",
            "_model_name": "LayoutModel",
            "_view_count": null,
            "_view_module": "@jupyter-widgets/base",
            "_view_module_version": "1.2.0",
            "_view_name": "LayoutView",
            "align_content": null,
            "align_items": null,
            "align_self": null,
            "border": null,
            "bottom": null,
            "display": null,
            "flex": null,
            "flex_flow": null,
            "grid_area": null,
            "grid_auto_columns": null,
            "grid_auto_flow": null,
            "grid_auto_rows": null,
            "grid_column": null,
            "grid_gap": null,
            "grid_row": null,
            "grid_template_areas": null,
            "grid_template_columns": null,
            "grid_template_rows": null,
            "height": null,
            "justify_content": null,
            "justify_items": null,
            "left": null,
            "margin": null,
            "max_height": null,
            "max_width": null,
            "min_height": null,
            "min_width": null,
            "object_fit": null,
            "object_position": null,
            "order": null,
            "overflow": null,
            "overflow_x": null,
            "overflow_y": null,
            "padding": null,
            "right": null,
            "top": null,
            "visibility": null,
            "width": null
          }
        },
        "513019cf10b5431d947c27774ff05a32": {
          "model_module": "@jupyter-widgets/controls",
          "model_name": "DescriptionStyleModel",
          "model_module_version": "1.5.0",
          "state": {
            "_model_module": "@jupyter-widgets/controls",
            "_model_module_version": "1.5.0",
            "_model_name": "DescriptionStyleModel",
            "_view_count": null,
            "_view_module": "@jupyter-widgets/base",
            "_view_module_version": "1.2.0",
            "_view_name": "StyleView",
            "description_width": ""
          }
        },
        "4a9d348b67d8467cbe02977dede03172": {
          "model_module": "@jupyter-widgets/base",
          "model_name": "LayoutModel",
          "model_module_version": "1.2.0",
          "state": {
            "_model_module": "@jupyter-widgets/base",
            "_model_module_version": "1.2.0",
            "_model_name": "LayoutModel",
            "_view_count": null,
            "_view_module": "@jupyter-widgets/base",
            "_view_module_version": "1.2.0",
            "_view_name": "LayoutView",
            "align_content": null,
            "align_items": null,
            "align_self": null,
            "border": null,
            "bottom": null,
            "display": null,
            "flex": null,
            "flex_flow": null,
            "grid_area": null,
            "grid_auto_columns": null,
            "grid_auto_flow": null,
            "grid_auto_rows": null,
            "grid_column": null,
            "grid_gap": null,
            "grid_row": null,
            "grid_template_areas": null,
            "grid_template_columns": null,
            "grid_template_rows": null,
            "height": null,
            "justify_content": null,
            "justify_items": null,
            "left": null,
            "margin": null,
            "max_height": null,
            "max_width": null,
            "min_height": null,
            "min_width": null,
            "object_fit": null,
            "object_position": null,
            "order": null,
            "overflow": null,
            "overflow_x": null,
            "overflow_y": null,
            "padding": null,
            "right": null,
            "top": null,
            "visibility": null,
            "width": null
          }
        },
        "887dc32aba0e44aab1b04c6a5b2c1414": {
          "model_module": "@jupyter-widgets/controls",
          "model_name": "ProgressStyleModel",
          "model_module_version": "1.5.0",
          "state": {
            "_model_module": "@jupyter-widgets/controls",
            "_model_module_version": "1.5.0",
            "_model_name": "ProgressStyleModel",
            "_view_count": null,
            "_view_module": "@jupyter-widgets/base",
            "_view_module_version": "1.2.0",
            "_view_name": "StyleView",
            "bar_color": null,
            "description_width": ""
          }
        },
        "9f40beb94da5487a801c18942f954ca1": {
          "model_module": "@jupyter-widgets/base",
          "model_name": "LayoutModel",
          "model_module_version": "1.2.0",
          "state": {
            "_model_module": "@jupyter-widgets/base",
            "_model_module_version": "1.2.0",
            "_model_name": "LayoutModel",
            "_view_count": null,
            "_view_module": "@jupyter-widgets/base",
            "_view_module_version": "1.2.0",
            "_view_name": "LayoutView",
            "align_content": null,
            "align_items": null,
            "align_self": null,
            "border": null,
            "bottom": null,
            "display": null,
            "flex": null,
            "flex_flow": null,
            "grid_area": null,
            "grid_auto_columns": null,
            "grid_auto_flow": null,
            "grid_auto_rows": null,
            "grid_column": null,
            "grid_gap": null,
            "grid_row": null,
            "grid_template_areas": null,
            "grid_template_columns": null,
            "grid_template_rows": null,
            "height": null,
            "justify_content": null,
            "justify_items": null,
            "left": null,
            "margin": null,
            "max_height": null,
            "max_width": null,
            "min_height": null,
            "min_width": null,
            "object_fit": null,
            "object_position": null,
            "order": null,
            "overflow": null,
            "overflow_x": null,
            "overflow_y": null,
            "padding": null,
            "right": null,
            "top": null,
            "visibility": null,
            "width": null
          }
        },
        "4aa9c99393aa485d84ea9ced2a160c28": {
          "model_module": "@jupyter-widgets/controls",
          "model_name": "DescriptionStyleModel",
          "model_module_version": "1.5.0",
          "state": {
            "_model_module": "@jupyter-widgets/controls",
            "_model_module_version": "1.5.0",
            "_model_name": "DescriptionStyleModel",
            "_view_count": null,
            "_view_module": "@jupyter-widgets/base",
            "_view_module_version": "1.2.0",
            "_view_name": "StyleView",
            "description_width": ""
          }
        },
        "ec4e18a7bfee4f2da0e259b124207fb7": {
          "model_module": "@jupyter-widgets/controls",
          "model_name": "HBoxModel",
          "model_module_version": "1.5.0",
          "state": {
            "_dom_classes": [],
            "_model_module": "@jupyter-widgets/controls",
            "_model_module_version": "1.5.0",
            "_model_name": "HBoxModel",
            "_view_count": null,
            "_view_module": "@jupyter-widgets/controls",
            "_view_module_version": "1.5.0",
            "_view_name": "HBoxView",
            "box_style": "",
            "children": [
              "IPY_MODEL_deb7249b98d04594ae836085f6d33a59",
              "IPY_MODEL_cd52a1354dc74f6e8949a1cf02fcda18",
              "IPY_MODEL_4edb6216f94e4ab795d6bb0fcc7c953d"
            ],
            "layout": "IPY_MODEL_13134f0ed0f7445da63572520dce25ce"
          }
        },
        "deb7249b98d04594ae836085f6d33a59": {
          "model_module": "@jupyter-widgets/controls",
          "model_name": "HTMLModel",
          "model_module_version": "1.5.0",
          "state": {
            "_dom_classes": [],
            "_model_module": "@jupyter-widgets/controls",
            "_model_module_version": "1.5.0",
            "_model_name": "HTMLModel",
            "_view_count": null,
            "_view_module": "@jupyter-widgets/controls",
            "_view_module_version": "1.5.0",
            "_view_name": "HTMLView",
            "description": "",
            "description_tooltip": null,
            "layout": "IPY_MODEL_b2d99e15b4ad4d70a5a5a8aa1081add0",
            "placeholder": "​",
            "style": "IPY_MODEL_201866d6d90b44a8b25d8c4ecbff5bf8",
            "value": "Extracting data files: 100%"
          }
        },
        "cd52a1354dc74f6e8949a1cf02fcda18": {
          "model_module": "@jupyter-widgets/controls",
          "model_name": "FloatProgressModel",
          "model_module_version": "1.5.0",
          "state": {
            "_dom_classes": [],
            "_model_module": "@jupyter-widgets/controls",
            "_model_module_version": "1.5.0",
            "_model_name": "FloatProgressModel",
            "_view_count": null,
            "_view_module": "@jupyter-widgets/controls",
            "_view_module_version": "1.5.0",
            "_view_name": "ProgressView",
            "bar_style": "success",
            "description": "",
            "description_tooltip": null,
            "layout": "IPY_MODEL_f42ada8597ed475aaf6e130256768fb4",
            "max": 1,
            "min": 0,
            "orientation": "horizontal",
            "style": "IPY_MODEL_90db96d61b2e4308aabbbe47bed9d901",
            "value": 1
          }
        },
        "4edb6216f94e4ab795d6bb0fcc7c953d": {
          "model_module": "@jupyter-widgets/controls",
          "model_name": "HTMLModel",
          "model_module_version": "1.5.0",
          "state": {
            "_dom_classes": [],
            "_model_module": "@jupyter-widgets/controls",
            "_model_module_version": "1.5.0",
            "_model_name": "HTMLModel",
            "_view_count": null,
            "_view_module": "@jupyter-widgets/controls",
            "_view_module_version": "1.5.0",
            "_view_name": "HTMLView",
            "description": "",
            "description_tooltip": null,
            "layout": "IPY_MODEL_2ddeb61764744fcabfdbc31c2e1dcc32",
            "placeholder": "​",
            "style": "IPY_MODEL_78ad81b5d2c144f59fec76f3997d1081",
            "value": " 1/1 [00:00&lt;00:00, 28.69it/s]"
          }
        },
        "13134f0ed0f7445da63572520dce25ce": {
          "model_module": "@jupyter-widgets/base",
          "model_name": "LayoutModel",
          "model_module_version": "1.2.0",
          "state": {
            "_model_module": "@jupyter-widgets/base",
            "_model_module_version": "1.2.0",
            "_model_name": "LayoutModel",
            "_view_count": null,
            "_view_module": "@jupyter-widgets/base",
            "_view_module_version": "1.2.0",
            "_view_name": "LayoutView",
            "align_content": null,
            "align_items": null,
            "align_self": null,
            "border": null,
            "bottom": null,
            "display": null,
            "flex": null,
            "flex_flow": null,
            "grid_area": null,
            "grid_auto_columns": null,
            "grid_auto_flow": null,
            "grid_auto_rows": null,
            "grid_column": null,
            "grid_gap": null,
            "grid_row": null,
            "grid_template_areas": null,
            "grid_template_columns": null,
            "grid_template_rows": null,
            "height": null,
            "justify_content": null,
            "justify_items": null,
            "left": null,
            "margin": null,
            "max_height": null,
            "max_width": null,
            "min_height": null,
            "min_width": null,
            "object_fit": null,
            "object_position": null,
            "order": null,
            "overflow": null,
            "overflow_x": null,
            "overflow_y": null,
            "padding": null,
            "right": null,
            "top": null,
            "visibility": null,
            "width": null
          }
        },
        "b2d99e15b4ad4d70a5a5a8aa1081add0": {
          "model_module": "@jupyter-widgets/base",
          "model_name": "LayoutModel",
          "model_module_version": "1.2.0",
          "state": {
            "_model_module": "@jupyter-widgets/base",
            "_model_module_version": "1.2.0",
            "_model_name": "LayoutModel",
            "_view_count": null,
            "_view_module": "@jupyter-widgets/base",
            "_view_module_version": "1.2.0",
            "_view_name": "LayoutView",
            "align_content": null,
            "align_items": null,
            "align_self": null,
            "border": null,
            "bottom": null,
            "display": null,
            "flex": null,
            "flex_flow": null,
            "grid_area": null,
            "grid_auto_columns": null,
            "grid_auto_flow": null,
            "grid_auto_rows": null,
            "grid_column": null,
            "grid_gap": null,
            "grid_row": null,
            "grid_template_areas": null,
            "grid_template_columns": null,
            "grid_template_rows": null,
            "height": null,
            "justify_content": null,
            "justify_items": null,
            "left": null,
            "margin": null,
            "max_height": null,
            "max_width": null,
            "min_height": null,
            "min_width": null,
            "object_fit": null,
            "object_position": null,
            "order": null,
            "overflow": null,
            "overflow_x": null,
            "overflow_y": null,
            "padding": null,
            "right": null,
            "top": null,
            "visibility": null,
            "width": null
          }
        },
        "201866d6d90b44a8b25d8c4ecbff5bf8": {
          "model_module": "@jupyter-widgets/controls",
          "model_name": "DescriptionStyleModel",
          "model_module_version": "1.5.0",
          "state": {
            "_model_module": "@jupyter-widgets/controls",
            "_model_module_version": "1.5.0",
            "_model_name": "DescriptionStyleModel",
            "_view_count": null,
            "_view_module": "@jupyter-widgets/base",
            "_view_module_version": "1.2.0",
            "_view_name": "StyleView",
            "description_width": ""
          }
        },
        "f42ada8597ed475aaf6e130256768fb4": {
          "model_module": "@jupyter-widgets/base",
          "model_name": "LayoutModel",
          "model_module_version": "1.2.0",
          "state": {
            "_model_module": "@jupyter-widgets/base",
            "_model_module_version": "1.2.0",
            "_model_name": "LayoutModel",
            "_view_count": null,
            "_view_module": "@jupyter-widgets/base",
            "_view_module_version": "1.2.0",
            "_view_name": "LayoutView",
            "align_content": null,
            "align_items": null,
            "align_self": null,
            "border": null,
            "bottom": null,
            "display": null,
            "flex": null,
            "flex_flow": null,
            "grid_area": null,
            "grid_auto_columns": null,
            "grid_auto_flow": null,
            "grid_auto_rows": null,
            "grid_column": null,
            "grid_gap": null,
            "grid_row": null,
            "grid_template_areas": null,
            "grid_template_columns": null,
            "grid_template_rows": null,
            "height": null,
            "justify_content": null,
            "justify_items": null,
            "left": null,
            "margin": null,
            "max_height": null,
            "max_width": null,
            "min_height": null,
            "min_width": null,
            "object_fit": null,
            "object_position": null,
            "order": null,
            "overflow": null,
            "overflow_x": null,
            "overflow_y": null,
            "padding": null,
            "right": null,
            "top": null,
            "visibility": null,
            "width": null
          }
        },
        "90db96d61b2e4308aabbbe47bed9d901": {
          "model_module": "@jupyter-widgets/controls",
          "model_name": "ProgressStyleModel",
          "model_module_version": "1.5.0",
          "state": {
            "_model_module": "@jupyter-widgets/controls",
            "_model_module_version": "1.5.0",
            "_model_name": "ProgressStyleModel",
            "_view_count": null,
            "_view_module": "@jupyter-widgets/base",
            "_view_module_version": "1.2.0",
            "_view_name": "StyleView",
            "bar_color": null,
            "description_width": ""
          }
        },
        "2ddeb61764744fcabfdbc31c2e1dcc32": {
          "model_module": "@jupyter-widgets/base",
          "model_name": "LayoutModel",
          "model_module_version": "1.2.0",
          "state": {
            "_model_module": "@jupyter-widgets/base",
            "_model_module_version": "1.2.0",
            "_model_name": "LayoutModel",
            "_view_count": null,
            "_view_module": "@jupyter-widgets/base",
            "_view_module_version": "1.2.0",
            "_view_name": "LayoutView",
            "align_content": null,
            "align_items": null,
            "align_self": null,
            "border": null,
            "bottom": null,
            "display": null,
            "flex": null,
            "flex_flow": null,
            "grid_area": null,
            "grid_auto_columns": null,
            "grid_auto_flow": null,
            "grid_auto_rows": null,
            "grid_column": null,
            "grid_gap": null,
            "grid_row": null,
            "grid_template_areas": null,
            "grid_template_columns": null,
            "grid_template_rows": null,
            "height": null,
            "justify_content": null,
            "justify_items": null,
            "left": null,
            "margin": null,
            "max_height": null,
            "max_width": null,
            "min_height": null,
            "min_width": null,
            "object_fit": null,
            "object_position": null,
            "order": null,
            "overflow": null,
            "overflow_x": null,
            "overflow_y": null,
            "padding": null,
            "right": null,
            "top": null,
            "visibility": null,
            "width": null
          }
        },
        "78ad81b5d2c144f59fec76f3997d1081": {
          "model_module": "@jupyter-widgets/controls",
          "model_name": "DescriptionStyleModel",
          "model_module_version": "1.5.0",
          "state": {
            "_model_module": "@jupyter-widgets/controls",
            "_model_module_version": "1.5.0",
            "_model_name": "DescriptionStyleModel",
            "_view_count": null,
            "_view_module": "@jupyter-widgets/base",
            "_view_module_version": "1.2.0",
            "_view_name": "StyleView",
            "description_width": ""
          }
        },
        "6b698de20e21484a8fa9a63be44791d9": {
          "model_module": "@jupyter-widgets/controls",
          "model_name": "HBoxModel",
          "model_module_version": "1.5.0",
          "state": {
            "_dom_classes": [],
            "_model_module": "@jupyter-widgets/controls",
            "_model_module_version": "1.5.0",
            "_model_name": "HBoxModel",
            "_view_count": null,
            "_view_module": "@jupyter-widgets/controls",
            "_view_module_version": "1.5.0",
            "_view_name": "HBoxView",
            "box_style": "",
            "children": [
              "IPY_MODEL_83ec6c1343ec4df5892c1f271f3cc26b",
              "IPY_MODEL_6dfdc156dd8c4e5e96892c124b16ce95",
              "IPY_MODEL_273ff02ed5ab418ab37388f65852bbae"
            ],
            "layout": "IPY_MODEL_18ba5025081c47809a86ecfa209de226"
          }
        },
        "83ec6c1343ec4df5892c1f271f3cc26b": {
          "model_module": "@jupyter-widgets/controls",
          "model_name": "HTMLModel",
          "model_module_version": "1.5.0",
          "state": {
            "_dom_classes": [],
            "_model_module": "@jupyter-widgets/controls",
            "_model_module_version": "1.5.0",
            "_model_name": "HTMLModel",
            "_view_count": null,
            "_view_module": "@jupyter-widgets/controls",
            "_view_module_version": "1.5.0",
            "_view_name": "HTMLView",
            "description": "",
            "description_tooltip": null,
            "layout": "IPY_MODEL_42cd6145e76941c4ac601d51e52c6d6e",
            "placeholder": "​",
            "style": "IPY_MODEL_e45d25d5397a4d0d81feee3dba87ba3b",
            "value": "Generating train split: "
          }
        },
        "6dfdc156dd8c4e5e96892c124b16ce95": {
          "model_module": "@jupyter-widgets/controls",
          "model_name": "FloatProgressModel",
          "model_module_version": "1.5.0",
          "state": {
            "_dom_classes": [],
            "_model_module": "@jupyter-widgets/controls",
            "_model_module_version": "1.5.0",
            "_model_name": "FloatProgressModel",
            "_view_count": null,
            "_view_module": "@jupyter-widgets/controls",
            "_view_module_version": "1.5.0",
            "_view_name": "ProgressView",
            "bar_style": "success",
            "description": "",
            "description_tooltip": null,
            "layout": "IPY_MODEL_69069e9615fa41a9882e04e987baaa05",
            "max": 1,
            "min": 0,
            "orientation": "horizontal",
            "style": "IPY_MODEL_2ffed1ffcc284b82b7ce46f7dd04e2e7",
            "value": 1
          }
        },
        "273ff02ed5ab418ab37388f65852bbae": {
          "model_module": "@jupyter-widgets/controls",
          "model_name": "HTMLModel",
          "model_module_version": "1.5.0",
          "state": {
            "_dom_classes": [],
            "_model_module": "@jupyter-widgets/controls",
            "_model_module_version": "1.5.0",
            "_model_name": "HTMLModel",
            "_view_count": null,
            "_view_module": "@jupyter-widgets/controls",
            "_view_module_version": "1.5.0",
            "_view_name": "HTMLView",
            "description": "",
            "description_tooltip": null,
            "layout": "IPY_MODEL_9d97cd978d774b94a0cd47939ca87cdd",
            "placeholder": "​",
            "style": "IPY_MODEL_4296086702f245e097600cdfbf7bdf44",
            "value": " 10/0 [00:00&lt;00:00, 233.63 examples/s]"
          }
        },
        "18ba5025081c47809a86ecfa209de226": {
          "model_module": "@jupyter-widgets/base",
          "model_name": "LayoutModel",
          "model_module_version": "1.2.0",
          "state": {
            "_model_module": "@jupyter-widgets/base",
            "_model_module_version": "1.2.0",
            "_model_name": "LayoutModel",
            "_view_count": null,
            "_view_module": "@jupyter-widgets/base",
            "_view_module_version": "1.2.0",
            "_view_name": "LayoutView",
            "align_content": null,
            "align_items": null,
            "align_self": null,
            "border": null,
            "bottom": null,
            "display": null,
            "flex": null,
            "flex_flow": null,
            "grid_area": null,
            "grid_auto_columns": null,
            "grid_auto_flow": null,
            "grid_auto_rows": null,
            "grid_column": null,
            "grid_gap": null,
            "grid_row": null,
            "grid_template_areas": null,
            "grid_template_columns": null,
            "grid_template_rows": null,
            "height": null,
            "justify_content": null,
            "justify_items": null,
            "left": null,
            "margin": null,
            "max_height": null,
            "max_width": null,
            "min_height": null,
            "min_width": null,
            "object_fit": null,
            "object_position": null,
            "order": null,
            "overflow": null,
            "overflow_x": null,
            "overflow_y": null,
            "padding": null,
            "right": null,
            "top": null,
            "visibility": null,
            "width": null
          }
        },
        "42cd6145e76941c4ac601d51e52c6d6e": {
          "model_module": "@jupyter-widgets/base",
          "model_name": "LayoutModel",
          "model_module_version": "1.2.0",
          "state": {
            "_model_module": "@jupyter-widgets/base",
            "_model_module_version": "1.2.0",
            "_model_name": "LayoutModel",
            "_view_count": null,
            "_view_module": "@jupyter-widgets/base",
            "_view_module_version": "1.2.0",
            "_view_name": "LayoutView",
            "align_content": null,
            "align_items": null,
            "align_self": null,
            "border": null,
            "bottom": null,
            "display": null,
            "flex": null,
            "flex_flow": null,
            "grid_area": null,
            "grid_auto_columns": null,
            "grid_auto_flow": null,
            "grid_auto_rows": null,
            "grid_column": null,
            "grid_gap": null,
            "grid_row": null,
            "grid_template_areas": null,
            "grid_template_columns": null,
            "grid_template_rows": null,
            "height": null,
            "justify_content": null,
            "justify_items": null,
            "left": null,
            "margin": null,
            "max_height": null,
            "max_width": null,
            "min_height": null,
            "min_width": null,
            "object_fit": null,
            "object_position": null,
            "order": null,
            "overflow": null,
            "overflow_x": null,
            "overflow_y": null,
            "padding": null,
            "right": null,
            "top": null,
            "visibility": null,
            "width": null
          }
        },
        "e45d25d5397a4d0d81feee3dba87ba3b": {
          "model_module": "@jupyter-widgets/controls",
          "model_name": "DescriptionStyleModel",
          "model_module_version": "1.5.0",
          "state": {
            "_model_module": "@jupyter-widgets/controls",
            "_model_module_version": "1.5.0",
            "_model_name": "DescriptionStyleModel",
            "_view_count": null,
            "_view_module": "@jupyter-widgets/base",
            "_view_module_version": "1.2.0",
            "_view_name": "StyleView",
            "description_width": ""
          }
        },
        "69069e9615fa41a9882e04e987baaa05": {
          "model_module": "@jupyter-widgets/base",
          "model_name": "LayoutModel",
          "model_module_version": "1.2.0",
          "state": {
            "_model_module": "@jupyter-widgets/base",
            "_model_module_version": "1.2.0",
            "_model_name": "LayoutModel",
            "_view_count": null,
            "_view_module": "@jupyter-widgets/base",
            "_view_module_version": "1.2.0",
            "_view_name": "LayoutView",
            "align_content": null,
            "align_items": null,
            "align_self": null,
            "border": null,
            "bottom": null,
            "display": null,
            "flex": null,
            "flex_flow": null,
            "grid_area": null,
            "grid_auto_columns": null,
            "grid_auto_flow": null,
            "grid_auto_rows": null,
            "grid_column": null,
            "grid_gap": null,
            "grid_row": null,
            "grid_template_areas": null,
            "grid_template_columns": null,
            "grid_template_rows": null,
            "height": null,
            "justify_content": null,
            "justify_items": null,
            "left": null,
            "margin": null,
            "max_height": null,
            "max_width": null,
            "min_height": null,
            "min_width": null,
            "object_fit": null,
            "object_position": null,
            "order": null,
            "overflow": null,
            "overflow_x": null,
            "overflow_y": null,
            "padding": null,
            "right": null,
            "top": null,
            "visibility": null,
            "width": "20px"
          }
        },
        "2ffed1ffcc284b82b7ce46f7dd04e2e7": {
          "model_module": "@jupyter-widgets/controls",
          "model_name": "ProgressStyleModel",
          "model_module_version": "1.5.0",
          "state": {
            "_model_module": "@jupyter-widgets/controls",
            "_model_module_version": "1.5.0",
            "_model_name": "ProgressStyleModel",
            "_view_count": null,
            "_view_module": "@jupyter-widgets/base",
            "_view_module_version": "1.2.0",
            "_view_name": "StyleView",
            "bar_color": null,
            "description_width": ""
          }
        },
        "9d97cd978d774b94a0cd47939ca87cdd": {
          "model_module": "@jupyter-widgets/base",
          "model_name": "LayoutModel",
          "model_module_version": "1.2.0",
          "state": {
            "_model_module": "@jupyter-widgets/base",
            "_model_module_version": "1.2.0",
            "_model_name": "LayoutModel",
            "_view_count": null,
            "_view_module": "@jupyter-widgets/base",
            "_view_module_version": "1.2.0",
            "_view_name": "LayoutView",
            "align_content": null,
            "align_items": null,
            "align_self": null,
            "border": null,
            "bottom": null,
            "display": null,
            "flex": null,
            "flex_flow": null,
            "grid_area": null,
            "grid_auto_columns": null,
            "grid_auto_flow": null,
            "grid_auto_rows": null,
            "grid_column": null,
            "grid_gap": null,
            "grid_row": null,
            "grid_template_areas": null,
            "grid_template_columns": null,
            "grid_template_rows": null,
            "height": null,
            "justify_content": null,
            "justify_items": null,
            "left": null,
            "margin": null,
            "max_height": null,
            "max_width": null,
            "min_height": null,
            "min_width": null,
            "object_fit": null,
            "object_position": null,
            "order": null,
            "overflow": null,
            "overflow_x": null,
            "overflow_y": null,
            "padding": null,
            "right": null,
            "top": null,
            "visibility": null,
            "width": null
          }
        },
        "4296086702f245e097600cdfbf7bdf44": {
          "model_module": "@jupyter-widgets/controls",
          "model_name": "DescriptionStyleModel",
          "model_module_version": "1.5.0",
          "state": {
            "_model_module": "@jupyter-widgets/controls",
            "_model_module_version": "1.5.0",
            "_model_name": "DescriptionStyleModel",
            "_view_count": null,
            "_view_module": "@jupyter-widgets/base",
            "_view_module_version": "1.2.0",
            "_view_name": "StyleView",
            "description_width": ""
          }
        }
      }
    }
  },
  "cells": [
    {
      "cell_type": "code",
      "execution_count": null,
      "metadata": {
        "id": "w-uCRC2e7813"
      },
      "outputs": [],
      "source": [
        "## data folder\n",
        "## /content/drive/MyDrive/work_chalenges/cazton/data"
      ]
    },
    {
      "cell_type": "code",
      "source": [
        "!pip install requests beautifulsoup4"
      ],
      "metadata": {
        "colab": {
          "base_uri": "https://localhost:8080/"
        },
        "id": "cdttheMM8nJ3",
        "outputId": "a1ff44f9-62f2-4275-8888-547dad2a3892"
      },
      "execution_count": 1,
      "outputs": [
        {
          "output_type": "stream",
          "name": "stdout",
          "text": [
            "Requirement already satisfied: requests in /usr/local/lib/python3.10/dist-packages (2.31.0)\n",
            "Requirement already satisfied: beautifulsoup4 in /usr/local/lib/python3.10/dist-packages (4.11.2)\n",
            "Requirement already satisfied: charset-normalizer<4,>=2 in /usr/local/lib/python3.10/dist-packages (from requests) (3.3.2)\n",
            "Requirement already satisfied: idna<4,>=2.5 in /usr/local/lib/python3.10/dist-packages (from requests) (3.6)\n",
            "Requirement already satisfied: urllib3<3,>=1.21.1 in /usr/local/lib/python3.10/dist-packages (from requests) (2.0.7)\n",
            "Requirement already satisfied: certifi>=2017.4.17 in /usr/local/lib/python3.10/dist-packages (from requests) (2023.11.17)\n",
            "Requirement already satisfied: soupsieve>1.2 in /usr/local/lib/python3.10/dist-packages (from beautifulsoup4) (2.5)\n"
          ]
        }
      ]
    },
    {
      "cell_type": "code",
      "source": [
        "import requests\n",
        "from bs4 import BeautifulSoup\n",
        "import json\n",
        "import os\n",
        "import re"
      ],
      "metadata": {
        "id": "rijGeBrZ3rma"
      },
      "execution_count": 2,
      "outputs": []
    },
    {
      "cell_type": "code",
      "source": [
        "def get_page_links(url, base_url):\n",
        "\n",
        "    try:\n",
        "\n",
        "        page = requests.get(url)\n",
        "        soup = BeautifulSoup(page.content, 'html.parser')\n",
        "        links = set()\n",
        "\n",
        "        for link in soup.find_all('a'):\n",
        "\n",
        "            href = link.get('href')\n",
        "\n",
        "            if href and href.startswith('/'):\n",
        "                links.add(base_url + href)\n",
        "\n",
        "        return links\n",
        "\n",
        "    except requests.exceptions.RequestException:\n",
        "        return set()\n",
        "\n",
        "def scrape_page(url):\n",
        "    # print('Trying to scrape - ', url)\n",
        "\n",
        "    try:\n",
        "\n",
        "        page = requests.get(url)\n",
        "        soup = BeautifulSoup(page.content, 'html.parser')\n",
        "        # print(\"Scraped\")\n",
        "\n",
        "        return soup.get_text()\n",
        "\n",
        "    except requests.exceptions.RequestException:\n",
        "        return \"\"\n",
        "\n",
        "def save_data(data, path):\n",
        "\n",
        "    os.makedirs(os.path.dirname(path), exist_ok = True)\n",
        "\n",
        "    with open(path, 'w') as file:\n",
        "        json.dump(data, file, indent = 2)"
      ],
      "metadata": {
        "id": "_NnVyco-8n5k"
      },
      "execution_count": null,
      "outputs": []
    },
    {
      "cell_type": "code",
      "source": [
        "base_url = 'https://cazton.com'\n",
        "visited = set()\n",
        "to_visit = {base_url}\n",
        "\n",
        "while to_visit:\n",
        "\n",
        "    current_url = to_visit.pop()\n",
        "\n",
        "    if current_url in visited:\n",
        "        continue\n",
        "\n",
        "    visited.add(current_url)\n",
        "\n",
        "    content = scrape_page(current_url)\n",
        "    if content:\n",
        "\n",
        "        file_name = current_url.replace(base_url, '').replace('/', '__') + '.json'\n",
        "        if file_name == '.json':\n",
        "          file_name = 'base.json'\n",
        "\n",
        "        save_data({'url': current_url, 'content': content}, '/content/drive/MyDrive/work_chalenges/cazton/data/' + file_name)\n",
        "\n",
        "    page_links = get_page_links(current_url, base_url)\n",
        "    to_visit.update(page_links - visited)"
      ],
      "metadata": {
        "id": "HJT4Ns0P9Bi8"
      },
      "execution_count": null,
      "outputs": []
    },
    {
      "cell_type": "code",
      "source": [
        "!ls /content/drive/MyDrive/work_chalenges/cazton/data"
      ],
      "metadata": {
        "id": "o4nXB54k9uAl"
      },
      "execution_count": null,
      "outputs": []
    },
    {
      "cell_type": "code",
      "source": [
        "complete_data = dict()\n",
        "\n",
        "for json_file in os.listdir('/content/drive/MyDrive/work_chalenges/cazton/data'):\n",
        "\n",
        "  file_path = '/content/drive/MyDrive/work_chalenges/cazton/data/' + json_file\n",
        "\n",
        "  with open(file_path, 'r', encoding = 'utf-8') as file:\n",
        "    data = json.load(file)\n",
        "\n",
        "  if 'content' in data:\n",
        "    complete_data[json_file[:-5]] = re.sub(r'\\n+', '\\n', data['content'])\n",
        "\n",
        "with open('/content/drive/MyDrive/work_chalenges/cazton/full_data.json', 'w') as file:\n",
        "  json.dump(complete_data, file, indent = 2)"
      ],
      "metadata": {
        "id": "p_PEbArtDvWb"
      },
      "execution_count": null,
      "outputs": []
    },
    {
      "cell_type": "code",
      "source": [
        "train_data = list()\n",
        "\n",
        "for idx, item in enumerate(compelete_data):\n",
        "\n",
        "  if i != 'base':\n",
        "    ques = \"tell me about cazton in the context of\" + i.replace('_', ' ')\n",
        "\n",
        "  else:\n",
        "    ques = \"tell me about cazton\"\n",
        "\n",
        "  data_point = dict()\n",
        "  data_point['question'] = ques\n",
        "  data_point['context'] = compelete_data[item]\n",
        "  data_point['answers'] = dict()\n",
        "  data_point['answers']['answer_start'] = [0]\n",
        "  data_point['answers']['text'] = compelete_data[item]\n",
        "\n",
        "  train_data.append(data_point)"
      ],
      "metadata": {
        "id": "NfXvDAB7_PHB"
      },
      "execution_count": 23,
      "outputs": []
    },
    {
      "cell_type": "code",
      "source": [
        "with open('/content/drive/MyDrive/work_chalenges/cazton/train_data.json', 'w') as file:\n",
        "  json.dump(train_data, file, indent = 2)"
      ],
      "metadata": {
        "id": "P9-K0BOn_SN6"
      },
      "execution_count": 24,
      "outputs": []
    },
    {
      "cell_type": "code",
      "source": [
        "test_data = list()\n",
        "\n",
        "for idx, item in enumerate(list(compelete_data.keys())[:10]):\n",
        "\n",
        "  if i != 'base':\n",
        "    ques = \"tell me about cazton in the context of\" + i.replace('_', ' ')\n",
        "\n",
        "  else:\n",
        "    ques = \"tell me about cazton\"\n",
        "\n",
        "  data_point = dict()\n",
        "  data_point['question'] = ques\n",
        "  data_point['context'] = compelete_data[item]\n",
        "  data_point['answers'] = dict()\n",
        "  data_point['answers']['answer_start'] = [0]\n",
        "  data_point['answers']['text'] = compelete_data[item]\n",
        "\n",
        "  test_data.append(data_point)"
      ],
      "metadata": {
        "id": "tY4p0SNs3-DE"
      },
      "execution_count": 19,
      "outputs": []
    },
    {
      "cell_type": "code",
      "source": [
        "with open('/content/drive/MyDrive/work_chalenges/cazton/test_data.json', 'w') as file:\n",
        "  json.dump(test_data, file, indent = 2)"
      ],
      "metadata": {
        "id": "wiYR1uP69aTb"
      },
      "execution_count": 20,
      "outputs": []
    },
    {
      "cell_type": "code",
      "source": [
        "{'answers': {'answer_start': [515], 'text': ['Saint Bernadette Soubirous']},\n",
        " 'context': 'Architecturally, the school has a Catholic character. Atop the Main Building\\'s gold dome is a golden statue of the Virgin Mary. Immediately in front of the Main Building and facing it, is a copper statue of Christ with arms upraised with the legend \"Venite Ad Me Omnes\". Next to the Main Building is the Basilica of the Sacred Heart. Immediately behind the basilica is the Grotto, a Marian place of prayer and reflection. It is a replica of the grotto at Lourdes, France where the Virgin Mary reputedly appeared to Saint Bernadette Soubirous in 1858. At the end of the main drive (and in a direct line that connects through 3 statues and the Gold Dome), is a simple, modern stone statue of Mary.',\n",
        " 'id': '5733be284776f41900661182',\n",
        " 'question': 'To whom did the Virgin Mary allegedly appear in 1858 in Lourdes France?',\n",
        " 'title': 'University_of_Notre_Dame'\n",
        "}"
      ],
      "metadata": {
        "id": "TcgofDxX6EJz"
      },
      "execution_count": null,
      "outputs": []
    },
    {
      "cell_type": "code",
      "source": [
        "!pip install transformers datasets evaluate"
      ],
      "metadata": {
        "id": "9QMBGEQd9Mhd"
      },
      "execution_count": null,
      "outputs": []
    },
    {
      "cell_type": "code",
      "source": [
        "from datasets import load_dataset\n",
        "dataset = load_dataset(\"json\", data_files = '/content/drive/MyDrive/work_chalenges/cazton/test_data.json')\n",
        "dataset"
      ],
      "metadata": {
        "colab": {
          "base_uri": "https://localhost:8080/",
          "height": 217,
          "referenced_widgets": [
            "2358bd12554e4378b6033b5fd974c265",
            "6eb69bfcb7784cb0803b3dacf7787fa6",
            "47931368e77b49e08e7d761f65c536b9",
            "77b4705a7db5416cbffe8af0c9bc9d8d",
            "0137073bd8f6492084aeded391b15d1e",
            "21ca56badae443c5bdffd3b735ccc565",
            "513019cf10b5431d947c27774ff05a32",
            "4a9d348b67d8467cbe02977dede03172",
            "887dc32aba0e44aab1b04c6a5b2c1414",
            "9f40beb94da5487a801c18942f954ca1",
            "4aa9c99393aa485d84ea9ced2a160c28",
            "ec4e18a7bfee4f2da0e259b124207fb7",
            "deb7249b98d04594ae836085f6d33a59",
            "cd52a1354dc74f6e8949a1cf02fcda18",
            "4edb6216f94e4ab795d6bb0fcc7c953d",
            "13134f0ed0f7445da63572520dce25ce",
            "b2d99e15b4ad4d70a5a5a8aa1081add0",
            "201866d6d90b44a8b25d8c4ecbff5bf8",
            "f42ada8597ed475aaf6e130256768fb4",
            "90db96d61b2e4308aabbbe47bed9d901",
            "2ddeb61764744fcabfdbc31c2e1dcc32",
            "78ad81b5d2c144f59fec76f3997d1081",
            "6b698de20e21484a8fa9a63be44791d9",
            "83ec6c1343ec4df5892c1f271f3cc26b",
            "6dfdc156dd8c4e5e96892c124b16ce95",
            "273ff02ed5ab418ab37388f65852bbae",
            "18ba5025081c47809a86ecfa209de226",
            "42cd6145e76941c4ac601d51e52c6d6e",
            "e45d25d5397a4d0d81feee3dba87ba3b",
            "69069e9615fa41a9882e04e987baaa05",
            "2ffed1ffcc284b82b7ce46f7dd04e2e7",
            "9d97cd978d774b94a0cd47939ca87cdd",
            "4296086702f245e097600cdfbf7bdf44"
          ]
        },
        "id": "98KTcp3Y9NiF",
        "outputId": "941f17cd-efa9-47c9-eac3-67b0cd41a231"
      },
      "execution_count": 21,
      "outputs": [
        {
          "output_type": "display_data",
          "data": {
            "text/plain": [
              "Downloading data files:   0%|          | 0/1 [00:00<?, ?it/s]"
            ],
            "application/vnd.jupyter.widget-view+json": {
              "version_major": 2,
              "version_minor": 0,
              "model_id": "2358bd12554e4378b6033b5fd974c265"
            }
          },
          "metadata": {}
        },
        {
          "output_type": "display_data",
          "data": {
            "text/plain": [
              "Extracting data files:   0%|          | 0/1 [00:00<?, ?it/s]"
            ],
            "application/vnd.jupyter.widget-view+json": {
              "version_major": 2,
              "version_minor": 0,
              "model_id": "ec4e18a7bfee4f2da0e259b124207fb7"
            }
          },
          "metadata": {}
        },
        {
          "output_type": "display_data",
          "data": {
            "text/plain": [
              "Generating train split: 0 examples [00:00, ? examples/s]"
            ],
            "application/vnd.jupyter.widget-view+json": {
              "version_major": 2,
              "version_minor": 0,
              "model_id": "6b698de20e21484a8fa9a63be44791d9"
            }
          },
          "metadata": {}
        },
        {
          "output_type": "execute_result",
          "data": {
            "text/plain": [
              "DatasetDict({\n",
              "    train: Dataset({\n",
              "        features: ['context', 'answers', 'question'],\n",
              "        num_rows: 10\n",
              "    })\n",
              "})"
            ]
          },
          "metadata": {},
          "execution_count": 21
        }
      ]
    },
    {
      "cell_type": "code",
      "source": [
        "dataset['train'][0]"
      ],
      "metadata": {
        "colab": {
          "base_uri": "https://localhost:8080/"
        },
        "id": "N2JjF5le9xCC",
        "outputId": "03552248-281e-4e72-fe78-f98304a711f3"
      },
      "execution_count": 22,
      "outputs": [
        {
          "output_type": "execute_result",
          "data": {
            "text/plain": [
              "{'context': \"\\nConsulting, Training, Recruiting | Cazton\\n(512) 318-2336\\ninfo@cazton.com\\nToggle navigation\\nHome\\nConsulting\\nCustom Software Development Services\\nBig Data & AI\\nAI Express PoC Service\\nOpenAI\\nAI Agents\\nOpenAI Case Studies\\nAzure OpenAI\\nChatGPT for Business\\nTech Debt Terminators\\nPyTorch\\nMicrosoft Fabric\\nTensorFlow\\nArtificial Intelligence\\nBig Data\\nOpenAI vs CaztonAI\\nDatabricks\\nApache Spark\\nHadoop & HDFS\\nApache Kafka\\nSpark.NET\\nCloud & DevOps\\nAmazon Web Services\\nAzure\\nGoogle Cloud Platform\\nSnowflake\\nDevOps\\nMicroservices\\nDocker\\nKubernetes\\nTerraform\\nAgile\\nDatabase Development\\nPolyglot Persistence\\nSQL Server\\nPostGres\\nAzure Cosmos DB\\nMongoDB\\nCassandra\\nRedis\\nApache Ignite\\nWeb, Mobile & Desktop\\n.NET 8\\n.NET 7\\nJava\\n.NET 6\\nReact\\nReact Native (iOS & Android)\\nIonic (iOS & Android)\\nAngular\\nBlazor\\nSwift (iOS)\\nASP.NET Core\\nNode.js\\nProgressive Web Apps\\nElectron.js (Mac, Windows & Linux)\\n.NET Core\\n.NET\\nEF Core\\nTypeScript\\nMicrosoft Consulting\\nShopify\\nOther Services\\nAzure Cognitive Search\\nSolr and Fusion\\nElasticsearch\\nBlockchain\\nSoftware Architecture\\nLambda Architecture\\nSalesforce\\nConsulting\\n Custom Software Development Services\\nBig Data / AI\\n AI Express PoC Service\\n OpenAI\\n AI Agents\\n OpenAI Case Studies\\n Azure OpenAI\\n ChatGPT for Business\\n Tech Debt Terminators\\n PyTorch\\n Microsoft Fabric\\n TensorFlow\\n Artificial Intelligence\\n Big Data\\n OpenAI vs CaztonAI\\n Databricks\\n Apache Spark\\n Hadoop & HDFS\\n Apache Kafka\\n Spark.NET\\n Polyglot Persistence\\n SQL Server\\n PostGres\\n Azure Cosmos DB\\n MongoDB\\n Cassandra\\n Redis\\n Apache Ignite\\nWeb & API Development\\n .NET 8\\n .NET 7\\n Java\\n .NET 6\\n React\\n Angular\\n Blazor\\n ASP.NET Core\\n .NET Core\\n .NET\\n EF Core\\n Node.js\\n Progressive Web Apps\\n TypeScript\\n Microsoft Consulting\\n Shopify\\nCloud / DevOps\\n Amazon Web Services\\n Azure\\n Google Cloud Platform\\n Snowflake\\n DevOps\\n Microservices\\n Docker\\n Kubernetes\\n Terraform\\n Agile\\nEnterprise Search\\n Azure Cognitive Search\\n Solr and Fusion\\n Elasticsearch\\nMobile / Desktop Development\\n React Native (iOS & Android)\\n Swift (iOS)\\n Ionic (iOS & Android)\\n Electron.js (Mac, Windows & Linux)\\nOther Services\\n Blockchain\\n Software Architecture\\n Lambda Architecture\\n Salesforce\\nTraining\\nTraining\\n Training Overview\\n ASP.NET Core\\n Angular\\n ReactJS\\n Aurelia\\n VueJS\\n TypeScript\\n EcmaScript\\n Docker\\n Kubernetes\\n Microservices\\n Spark.NET\\nWorkshops\\n Masterclass Workshops\\n Mastering ASP.NET Core with Angular\\n Data Science Made Easy (Python & Spark)\\n UI, API & Server Side\\n Best Practices for Scaling Web Apps\\n Comparing JavaScript Frameworks\\n Web Performance Deep Dive\\n Enterprise Development\\n Modern JavaScript Development\\nRecruiting\\nContributions\\nCommunity\\nWorkshops\\nVideos\\nEBooks\\nPresentations\\nConferences\\nBlogs\\nExecutive Blog\\nTechnical Blog\\nAbout Us\\nAbout Cazton\\nOur Clients\\nCareers\\nContact Us\\nDiscover the exemplary Cazton experience\\nClients\\nLearn more \\n10 Keynotes in 4 Continents\\nLearn more \\nCazton CEO acts as a judge at  MIT, Harvard and UT Austin\\nLearn more \\nLearn more \\nWorld Famous Reports\\nLearn more \\nTop Tech Stack\\nOne stop shop for all your custom software development needs\\nConsulting\\nConsulting\\nOur team of experts awarded by Microsoft and Google develop scalable and cost-effective AI, web, big data, mobile, cloud and DevOps solutions.\\nKnow More\\nTraining\\nTraining\\nBored with PowerPoint trainings? Discover Cazton's hands-on trainings fully customized to your needs.\\nKnow More\\nRecruiting\\nRecruiting\\nGet rid of the false positives and non-technical recruiters. Our expert data scientists, architects, developers and DevOps pre-screen the candidates for you.\\nKnow More\\nReady to digitally transform your company?\\nContact Us\\nTop Services\\nCazton is composed of technical professionals with expertise gained all over the world and in all fields of the tech industry and we put this expertise to work for you. We offer professional services in the field of custom software development, consulting, training and recruiting. Cazton has expanded into a global company, servicing clients across the United States, Canada, Norway, Sweden, England, Germany, France, Netherlands, Belgium, Italy, Australia and India. We serve all industries, including banking & investment services, finance and mortgage; fintech, legal services, life sciences & healthcare, construction, chemical industries, hotel industries, transport & tourism, commerce, technology, media, e-commerce, telecom, airlines, logistics and supply chain. Learn more about our services below.\\nOur Clients\\nWe help companies in their digital transformation. Some of our clients from SMBs to fortune 500 Companies. Know more \\nWe're here to help you and your business succeed!\\nContact Us\\nCopyright © 2023 Cazton. • All Rights Reserved • View Sitemap\\n\",\n",
              " 'answers': {'answer_start': [0],\n",
              "  'text': \"\\nConsulting, Training, Recruiting | Cazton\\n(512) 318-2336\\ninfo@cazton.com\\nToggle navigation\\nHome\\nConsulting\\nCustom Software Development Services\\nBig Data & AI\\nAI Express PoC Service\\nOpenAI\\nAI Agents\\nOpenAI Case Studies\\nAzure OpenAI\\nChatGPT for Business\\nTech Debt Terminators\\nPyTorch\\nMicrosoft Fabric\\nTensorFlow\\nArtificial Intelligence\\nBig Data\\nOpenAI vs CaztonAI\\nDatabricks\\nApache Spark\\nHadoop & HDFS\\nApache Kafka\\nSpark.NET\\nCloud & DevOps\\nAmazon Web Services\\nAzure\\nGoogle Cloud Platform\\nSnowflake\\nDevOps\\nMicroservices\\nDocker\\nKubernetes\\nTerraform\\nAgile\\nDatabase Development\\nPolyglot Persistence\\nSQL Server\\nPostGres\\nAzure Cosmos DB\\nMongoDB\\nCassandra\\nRedis\\nApache Ignite\\nWeb, Mobile & Desktop\\n.NET 8\\n.NET 7\\nJava\\n.NET 6\\nReact\\nReact Native (iOS & Android)\\nIonic (iOS & Android)\\nAngular\\nBlazor\\nSwift (iOS)\\nASP.NET Core\\nNode.js\\nProgressive Web Apps\\nElectron.js (Mac, Windows & Linux)\\n.NET Core\\n.NET\\nEF Core\\nTypeScript\\nMicrosoft Consulting\\nShopify\\nOther Services\\nAzure Cognitive Search\\nSolr and Fusion\\nElasticsearch\\nBlockchain\\nSoftware Architecture\\nLambda Architecture\\nSalesforce\\nConsulting\\n Custom Software Development Services\\nBig Data / AI\\n AI Express PoC Service\\n OpenAI\\n AI Agents\\n OpenAI Case Studies\\n Azure OpenAI\\n ChatGPT for Business\\n Tech Debt Terminators\\n PyTorch\\n Microsoft Fabric\\n TensorFlow\\n Artificial Intelligence\\n Big Data\\n OpenAI vs CaztonAI\\n Databricks\\n Apache Spark\\n Hadoop & HDFS\\n Apache Kafka\\n Spark.NET\\n Polyglot Persistence\\n SQL Server\\n PostGres\\n Azure Cosmos DB\\n MongoDB\\n Cassandra\\n Redis\\n Apache Ignite\\nWeb & API Development\\n .NET 8\\n .NET 7\\n Java\\n .NET 6\\n React\\n Angular\\n Blazor\\n ASP.NET Core\\n .NET Core\\n .NET\\n EF Core\\n Node.js\\n Progressive Web Apps\\n TypeScript\\n Microsoft Consulting\\n Shopify\\nCloud / DevOps\\n Amazon Web Services\\n Azure\\n Google Cloud Platform\\n Snowflake\\n DevOps\\n Microservices\\n Docker\\n Kubernetes\\n Terraform\\n Agile\\nEnterprise Search\\n Azure Cognitive Search\\n Solr and Fusion\\n Elasticsearch\\nMobile / Desktop Development\\n React Native (iOS & Android)\\n Swift (iOS)\\n Ionic (iOS & Android)\\n Electron.js (Mac, Windows & Linux)\\nOther Services\\n Blockchain\\n Software Architecture\\n Lambda Architecture\\n Salesforce\\nTraining\\nTraining\\n Training Overview\\n ASP.NET Core\\n Angular\\n ReactJS\\n Aurelia\\n VueJS\\n TypeScript\\n EcmaScript\\n Docker\\n Kubernetes\\n Microservices\\n Spark.NET\\nWorkshops\\n Masterclass Workshops\\n Mastering ASP.NET Core with Angular\\n Data Science Made Easy (Python & Spark)\\n UI, API & Server Side\\n Best Practices for Scaling Web Apps\\n Comparing JavaScript Frameworks\\n Web Performance Deep Dive\\n Enterprise Development\\n Modern JavaScript Development\\nRecruiting\\nContributions\\nCommunity\\nWorkshops\\nVideos\\nEBooks\\nPresentations\\nConferences\\nBlogs\\nExecutive Blog\\nTechnical Blog\\nAbout Us\\nAbout Cazton\\nOur Clients\\nCareers\\nContact Us\\nDiscover the exemplary Cazton experience\\nClients\\nLearn more \\n10 Keynotes in 4 Continents\\nLearn more \\nCazton CEO acts as a judge at  MIT, Harvard and UT Austin\\nLearn more \\nLearn more \\nWorld Famous Reports\\nLearn more \\nTop Tech Stack\\nOne stop shop for all your custom software development needs\\nConsulting\\nConsulting\\nOur team of experts awarded by Microsoft and Google develop scalable and cost-effective AI, web, big data, mobile, cloud and DevOps solutions.\\nKnow More\\nTraining\\nTraining\\nBored with PowerPoint trainings? Discover Cazton's hands-on trainings fully customized to your needs.\\nKnow More\\nRecruiting\\nRecruiting\\nGet rid of the false positives and non-technical recruiters. Our expert data scientists, architects, developers and DevOps pre-screen the candidates for you.\\nKnow More\\nReady to digitally transform your company?\\nContact Us\\nTop Services\\nCazton is composed of technical professionals with expertise gained all over the world and in all fields of the tech industry and we put this expertise to work for you. We offer professional services in the field of custom software development, consulting, training and recruiting. Cazton has expanded into a global company, servicing clients across the United States, Canada, Norway, Sweden, England, Germany, France, Netherlands, Belgium, Italy, Australia and India. We serve all industries, including banking & investment services, finance and mortgage; fintech, legal services, life sciences & healthcare, construction, chemical industries, hotel industries, transport & tourism, commerce, technology, media, e-commerce, telecom, airlines, logistics and supply chain. Learn more about our services below.\\nOur Clients\\nWe help companies in their digital transformation. Some of our clients from SMBs to fortune 500 Companies. Know more \\nWe're here to help you and your business succeed!\\nContact Us\\nCopyright © 2023 Cazton. • All Rights Reserved • View Sitemap\\n\"},\n",
              " 'question': 'tell me about cazton in the context of  trainings  docker'}"
            ]
          },
          "metadata": {},
          "execution_count": 22
        }
      ]
    },
    {
      "cell_type": "code",
      "source": [],
      "metadata": {
        "id": "uEYMbng092Sz"
      },
      "execution_count": null,
      "outputs": []
    }
  ]
}